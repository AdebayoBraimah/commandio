{
 "cells": [
  {
   "cell_type": "code",
   "execution_count": 1,
   "metadata": {},
   "outputs": [],
   "source": [
    "import os\n",
    "import sys\n",
    "import pathlib"
   ]
  },
  {
   "cell_type": "code",
   "execution_count": 2,
   "metadata": {},
   "outputs": [],
   "source": [
    "__file__ = \"01_test_iobase.py\""
   ]
  },
  {
   "cell_type": "code",
   "execution_count": 3,
   "metadata": {},
   "outputs": [
    {
     "name": "stdout",
     "output_type": "stream",
     "text": [
      "/Users/adebayobraimah/Desktop/projects/commandio\n"
     ]
    }
   ],
   "source": [
    "_pkg_path: str = os.path.join(\n",
    "    str(pathlib.Path(os.path.abspath(__file__)).parents[1])\n",
    ")\n",
    "print(_pkg_path)"
   ]
  },
  {
   "cell_type": "code",
   "execution_count": 4,
   "metadata": {},
   "outputs": [],
   "source": [
    "sys.path.append(_pkg_path)"
   ]
  },
  {
   "cell_type": "code",
   "execution_count": 5,
   "metadata": {},
   "outputs": [
    {
     "name": "stdout",
     "output_type": "stream",
     "text": [
      "/Users/adebayobraimah/Desktop/projects/commandio/tests\n"
     ]
    }
   ],
   "source": [
    "print(os.getcwd())"
   ]
  },
  {
   "cell_type": "code",
   "execution_count": 6,
   "metadata": {},
   "outputs": [],
   "source": [
    "from iobase import IOBaseObj"
   ]
  },
  {
   "cell_type": "code",
   "execution_count": 7,
   "metadata": {},
   "outputs": [],
   "source": [
    "class myClass(IOBaseObj):\n",
    "    \"\"\"Test class object\"\"\"\n",
    "    def __init__(src):\n",
    "        super(myClass,self).__init__(src)"
   ]
  },
  {
   "cell_type": "code",
   "execution_count": 8,
   "metadata": {},
   "outputs": [],
   "source": [
    "# c: myClass = myClass(src='t.txt')"
   ]
  },
  {
   "cell_type": "code",
   "execution_count": 9,
   "metadata": {},
   "outputs": [],
   "source": [
    "from fileio import File"
   ]
  },
  {
   "cell_type": "code",
   "execution_count": 10,
   "metadata": {},
   "outputs": [
    {
     "name": "stdout",
     "output_type": "stream",
     "text": [
      "/Users/adebayobraimah/Desktop/projects/commandio/tests/test.txt\n"
     ]
    }
   ],
   "source": [
    "with File(src='test.txt', assert_exists=False) as f:\n",
    "    print(f.abspath())"
   ]
  },
  {
   "cell_type": "code",
   "execution_count": 11,
   "metadata": {},
   "outputs": [],
   "source": [
    "from workdir import WorkDir"
   ]
  },
  {
   "cell_type": "code",
   "execution_count": 43,
   "metadata": {},
   "outputs": [
    {
     "name": "stdout",
     "output_type": "stream",
     "text": [
      "/Users/adebayobraimah/Desktop/projects/commandio/tests/test.1/test.1.2/test.1.3\n"
     ]
    }
   ],
   "source": [
    "with WorkDir(src=\"test.1/test.1.2/test.1.3\", use_cwd=True) as wd1:\n",
    "    with WorkDir(src=\"test.2/test.2.2/test.2.3\", use_cwd=True) as wd2:\n",
    "        # print(wd1.sym_link(dst=\"test.2/test.2.2/test.sym1\"))\n",
    "        # wd1.sym_link(dst=\"test.2/test.2.2\")\n",
    "        # print(os.path.realpath(wd2.sym_link(dst=\"test.1/test.1.2/test.1.3/test.sym2\", relative=True)))\n",
    "        # print(os.path.realpath(wd1.sym_link(dst=\"test.2/test.2.2/test.sym1\", relative=True)))\n",
    "        a = os.path.realpath(wd1.sym_link(dst=\"test.2/test.2.2/test.2.3/test.sym1\", relative=True))\n",
    "        print(os.path.realpath(a))"
   ]
  },
  {
   "cell_type": "code",
   "execution_count": 39,
   "metadata": {},
   "outputs": [
    {
     "name": "stdout",
     "output_type": "stream",
     "text": [
      "/Users/adebayobraimah/Desktop/projects/commandio/tests/test.1/test.1.2/test.1.3\n",
      "/Users/adebayobraimah/Desktop/test.2/test.2.2/test.sym1\n"
     ]
    }
   ],
   "source": [
    "print(os.path.realpath(\"test.2/test.2.2/test.sym1\"))\n",
    "print(os.path.realpath(\"/Users/adebayobraimah/Desktop/test.2/test.2.2/test.sym1\"))"
   ]
  },
  {
   "cell_type": "code",
   "execution_count": 42,
   "metadata": {},
   "outputs": [
    {
     "data": {
      "text/plain": [
       "False"
      ]
     },
     "execution_count": 42,
     "metadata": {},
     "output_type": "execute_result"
    }
   ],
   "source": [
    "os.path.exists(\"/Users/adebayobraimah/Desktop/test.2/test.2.2/test.sym1\")"
   ]
  },
  {
   "cell_type": "code",
   "execution_count": 7,
   "metadata": {},
   "outputs": [],
   "source": [
    "from tmpdir import TmpDir"
   ]
  },
  {
   "cell_type": "code",
   "execution_count": 9,
   "metadata": {},
   "outputs": [
    {
     "name": "stdout",
     "output_type": "stream",
     "text": [
      "/Users/adebayobraimah/Desktop/projects/commandio/tests/test.1/tmp_dir_6421\n",
      "False\n"
     ]
    }
   ],
   "source": [
    "with TmpDir(src=\"test.1\", use_cwd=True, cleanup=False) as td:\n",
    "    print(td.abspath())\n",
    "    print(td.cleanup)"
   ]
  },
  {
   "cell_type": "code",
   "execution_count": null,
   "metadata": {},
   "outputs": [],
   "source": []
  }
 ],
 "metadata": {
  "interpreter": {
   "hash": "d74d454bdf6082ff3aeb3787562ff7694dde8310e3a05412999967c1b6a37f8b"
  },
  "kernelspec": {
   "display_name": "Python 3.8.10 ('base')",
   "language": "python",
   "name": "python3"
  },
  "language_info": {
   "codemirror_mode": {
    "name": "ipython",
    "version": 3
   },
   "file_extension": ".py",
   "mimetype": "text/x-python",
   "name": "python",
   "nbconvert_exporter": "python",
   "pygments_lexer": "ipython3",
   "version": "3.8.10"
  },
  "orig_nbformat": 4
 },
 "nbformat": 4,
 "nbformat_minor": 2
}
